{
 "cells": [
  {
   "cell_type": "code",
   "execution_count": 4,
   "metadata": {},
   "outputs": [
    {
     "name": "stdout",
     "output_type": "stream",
     "text": [
      "Possible subject-verb agreement issue: 'car' should be 'cars'\n"
     ]
    }
   ],
   "source": [
    "import nltk\n",
    "\n",
    "def detect_grammar_errors(text):\n",
    "    # Tokenize the text into words\n",
    "    words = nltk.word_tokenize(text)\n",
    "\n",
    "    # Perform part-of-speech tagging\n",
    "    tagged_words = nltk.pos_tag(words)\n",
    "\n",
    "    grammar_errors = []\n",
    "\n",
    "    for i in range(len(tagged_words) - 1):\n",
    "        word, tag = tagged_words[i]\n",
    "        next_word, next_tag = tagged_words[i + 1]\n",
    "\n",
    "        # Check for subject-verb agreement\n",
    "        if tag.startswith('N') and next_tag.startswith('V'):\n",
    "            grammar_errors.append(f\"Possible subject-verb agreement issue: '{word}' should be '{word}s'\")\n",
    "\n",
    "        # Check for articles\n",
    "        if next_word.lower() in ['a', 'an'] and (tag.startswith('V') or tag.startswith('N')):\n",
    "            grammar_errors.append(f\"Use 'a' or 'an' correctly before '{next_word}'\")\n",
    "\n",
    "    return grammar_errors\n",
    "\n",
    "text = \"He car run to the store.\"\n",
    "errors = detect_grammar_errors(text)\n",
    "\n",
    "if errors:\n",
    "    for error in errors:\n",
    "        print(error)\n",
    "else:\n",
    "    print(\"No grammar errors found.\")\n"
   ]
  },
  {
   "cell_type": "code",
   "execution_count": 4,
   "metadata": {},
   "outputs": [
    {
     "ename": "TypeError",
     "evalue": "string indices must be integers",
     "output_type": "error",
     "traceback": [
      "\u001b[1;31m---------------------------------------------------------------------------\u001b[0m",
      "\u001b[1;31mTypeError\u001b[0m                                 Traceback (most recent call last)",
      "\u001b[1;32me:\\OneDrive - University of Essex\\Desktop\\2023 UK\\wrting skill improvement\\grammer.ipynb Cell 2\u001b[0m line \u001b[0;36m6\n\u001b[0;32m      <a href='vscode-notebook-cell:/e%3A/OneDrive%20-%20University%20of%20Essex/Desktop/2023%20UK/wrting%20skill%20improvement/grammer.ipynb#W1sZmlsZQ%3D%3D?line=0'>1</a>\u001b[0m \u001b[39mimport\u001b[39;00m \u001b[39mlanguage_check\u001b[39;00m\n\u001b[0;32m      <a href='vscode-notebook-cell:/e%3A/OneDrive%20-%20University%20of%20Essex/Desktop/2023%20UK/wrting%20skill%20improvement/grammer.ipynb#W1sZmlsZQ%3D%3D?line=3'>4</a>\u001b[0m \u001b[39m# Mention the language keyword\u001b[39;00m\n\u001b[0;32m      <a href='vscode-notebook-cell:/e%3A/OneDrive%20-%20University%20of%20Essex/Desktop/2023%20UK/wrting%20skill%20improvement/grammer.ipynb#W1sZmlsZQ%3D%3D?line=4'>5</a>\u001b[0m \u001b[39m# tool = language_check.LanguageTool('en-US')\u001b[39;00m\n\u001b[1;32m----> <a href='vscode-notebook-cell:/e%3A/OneDrive%20-%20University%20of%20Essex/Desktop/2023%20UK/wrting%20skill%20improvement/grammer.ipynb#W1sZmlsZQ%3D%3D?line=5'>6</a>\u001b[0m tool \u001b[39m=\u001b[39m language_check\u001b[39m.\u001b[39;49mLanguageTool(\u001b[39m'\u001b[39;49m\u001b[39men-US\u001b[39;49m\u001b[39m'\u001b[39;49m, remote_server\u001b[39m=\u001b[39;49m\u001b[39m'\u001b[39;49m\u001b[39mhttps://languagetool.org/api/v2/\u001b[39;49m\u001b[39m'\u001b[39;49m)\n\u001b[0;32m      <a href='vscode-notebook-cell:/e%3A/OneDrive%20-%20University%20of%20Essex/Desktop/2023%20UK/wrting%20skill%20improvement/grammer.ipynb#W1sZmlsZQ%3D%3D?line=7'>8</a>\u001b[0m i \u001b[39m=\u001b[39m \u001b[39m0\u001b[39m\n\u001b[0;32m     <a href='vscode-notebook-cell:/e%3A/OneDrive%20-%20University%20of%20Essex/Desktop/2023%20UK/wrting%20skill%20improvement/grammer.ipynb#W1sZmlsZQ%3D%3D?line=9'>10</a>\u001b[0m \u001b[39m# Path of file which needs to be checked\u001b[39;00m\n",
      "File \u001b[1;32mc:\\Users\\MAC\\anaconda3\\envs\\ocr\\lib\\site-packages\\language_check\\__init__.py:191\u001b[0m, in \u001b[0;36mLanguageTool.__init__\u001b[1;34m(self, language, motherTongue, remote_server)\u001b[0m\n\u001b[0;32m    189\u001b[0m \u001b[39mif\u001b[39;00m remote_server \u001b[39mis\u001b[39;00m \u001b[39mnot\u001b[39;00m \u001b[39mNone\u001b[39;00m:\n\u001b[0;32m    190\u001b[0m     \u001b[39mself\u001b[39m\u001b[39m.\u001b[39m_remote \u001b[39m=\u001b[39m \u001b[39mTrue\u001b[39;00m\n\u001b[1;32m--> 191\u001b[0m     \u001b[39mself\u001b[39m\u001b[39m.\u001b[39m_HOST \u001b[39m=\u001b[39m remote_server[\u001b[39m\"\u001b[39;49m\u001b[39mhost\u001b[39;49m\u001b[39m\"\u001b[39;49m]\n\u001b[0;32m    192\u001b[0m     \u001b[39mself\u001b[39m\u001b[39m.\u001b[39m_port \u001b[39m=\u001b[39m remote_server[\u001b[39m\"\u001b[39m\u001b[39mport\u001b[39m\u001b[39m\"\u001b[39m]\n\u001b[0;32m    193\u001b[0m     \u001b[39mself\u001b[39m\u001b[39m.\u001b[39m_url \u001b[39m=\u001b[39m \u001b[39m'\u001b[39m\u001b[39mhttp://\u001b[39m\u001b[39m{}\u001b[39;00m\u001b[39m:\u001b[39m\u001b[39m{}\u001b[39;00m\u001b[39m'\u001b[39m\u001b[39m.\u001b[39mformat(\u001b[39mself\u001b[39m\u001b[39m.\u001b[39m_HOST, \u001b[39mself\u001b[39m\u001b[39m.\u001b[39m_port)\n",
      "\u001b[1;31mTypeError\u001b[0m: string indices must be integers"
     ]
    }
   ],
   "source": [
    "\n",
    "import language_check\n",
    " \n",
    " \n",
    "# Mention the language keyword\n",
    "# tool = language_check.LanguageTool('en-US')\n",
    "tool = language_check.LanguageTool('en-US', remote_server='https://languagetool.org/api/v2/')\n",
    "\n",
    "\n",
    "i = 0\n",
    " \n",
    "# Path of file which needs to be checked\n",
    "with open(r'transcript1.txt', 'r') as fin:  \n",
    "              \n",
    "    for line in fin:\n",
    "        matches = tool.check(line)\n",
    "        i = i + len(matches)     \n",
    "        pass\n",
    " \n",
    "# prints total mistakes which are found \n",
    "# from the document\n",
    "print(\"No. of mistakes found in document is \", i)\n",
    "print()\n",
    "   \n",
    "# prints mistake one by one \n",
    "for mistake in matches:\n",
    "    print(mistake)\n",
    "    print()\n"
   ]
  },
  {
   "cell_type": "code",
   "execution_count": 1,
   "metadata": {},
   "outputs": [
    {
     "name": "stderr",
     "output_type": "stream",
     "text": [
      "c:\\Users\\MAC\\anaconda3\\envs\\ocr\\lib\\site-packages\\tqdm\\auto.py:21: TqdmWarning: IProgress not found. Please update jupyter and ipywidgets. See https://ipywidgets.readthedocs.io/en/stable/user_install.html\n",
      "  from .autonotebook import tqdm as notebook_tqdm\n",
      "Downloading (…)lve/main/config.json: 100%|██████████| 891/891 [00:00<00:00, 301kB/s]\n",
      "c:\\Users\\MAC\\anaconda3\\envs\\ocr\\lib\\site-packages\\huggingface_hub\\file_download.py:137: UserWarning: `huggingface_hub` cache-system uses symlinks by default to efficiently store duplicated files but your machine does not support them in C:\\Users\\MAC\\.cache\\huggingface\\hub. Caching files will still work but in a degraded version that might require more space on your disk. This warning can be disabled by setting the `HF_HUB_DISABLE_SYMLINKS_WARNING` environment variable. For more details, see https://huggingface.co/docs/huggingface_hub/how-to-cache#limitations.\n",
      "To support symlinks on Windows, you either need to activate Developer Mode or to run Python as an administrator. In order to see activate developer mode, see this article: https://docs.microsoft.com/en-us/windows/apps/get-started/enable-your-device-for-development\n",
      "  warnings.warn(message)\n",
      "Downloading model.safetensors: 100%|██████████| 308M/308M [00:18<00:00, 17.0MB/s] \n",
      "Downloading (…)okenizer_config.json: 100%|██████████| 2.58k/2.58k [00:00<00:00, 1.29MB/s]\n",
      "Downloading spiece.model: 100%|██████████| 792k/792k [00:00<00:00, 2.09MB/s]\n",
      "Downloading (…)/main/tokenizer.json: 100%|██████████| 2.42M/2.42M [00:00<00:00, 13.1MB/s]\n",
      "Downloading (…)cial_tokens_map.json: 100%|██████████| 2.20k/2.20k [00:00<00:00, 553kB/s]\n"
     ]
    },
    {
     "name": "stdout",
     "output_type": "stream",
     "text": [
      "[{'generated_text': 'I can have a hamburger.'}]\n"
     ]
    }
   ],
   "source": [
    "from transformers import pipeline\n",
    "corrector = pipeline(\n",
    "              'text2text-generation',\n",
    "              'pszemraj/grammar-synthesis-small',\n",
    "              )\n",
    "raw_text = 'i can has cheezburger'\n",
    "results = corrector(raw_text)\n",
    "print(results)"
   ]
  }
 ],
 "metadata": {
  "kernelspec": {
   "display_name": "ocr",
   "language": "python",
   "name": "python3"
  },
  "language_info": {
   "codemirror_mode": {
    "name": "ipython",
    "version": 3
   },
   "file_extension": ".py",
   "mimetype": "text/x-python",
   "name": "python",
   "nbconvert_exporter": "python",
   "pygments_lexer": "ipython3",
   "version": "3.8.0"
  }
 },
 "nbformat": 4,
 "nbformat_minor": 2
}
